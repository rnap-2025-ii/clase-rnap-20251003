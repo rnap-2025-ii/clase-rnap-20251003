{
 "cells": [
  {
   "cell_type": "markdown",
   "id": "03f24356",
   "metadata": {},
   "source": [
    "# Introducción a redes neuronales"
   ]
  },
  {
   "cell_type": "code",
   "execution_count": 4,
   "id": "8f15e96f",
   "metadata": {},
   "outputs": [],
   "source": [
    "import numpy as np"
   ]
  },
  {
   "cell_type": "code",
   "execution_count": 3,
   "id": "3b7926a9",
   "metadata": {},
   "outputs": [
    {
     "name": "stdout",
     "output_type": "stream",
     "text": [
      "2\n"
     ]
    }
   ],
   "source": [
    "z1 = 5*(-1)+2*2+3\n",
    "print(z1)"
   ]
  },
  {
   "cell_type": "code",
   "execution_count": 14,
   "id": "62daa453",
   "metadata": {},
   "outputs": [],
   "source": [
    "x = np.array([[5], [2], [1]])"
   ]
  },
  {
   "cell_type": "code",
   "execution_count": 15,
   "id": "049c1e18",
   "metadata": {},
   "outputs": [
    {
     "data": {
      "text/plain": [
       "(3, 1)"
      ]
     },
     "execution_count": 15,
     "metadata": {},
     "output_type": "execute_result"
    }
   ],
   "source": [
    "x.shape"
   ]
  },
  {
   "cell_type": "code",
   "execution_count": 16,
   "id": "4fdd8f3b",
   "metadata": {},
   "outputs": [],
   "source": [
    "v = np.array([[-1], [2], [3]])"
   ]
  },
  {
   "cell_type": "code",
   "execution_count": 17,
   "id": "4e1c89b4",
   "metadata": {},
   "outputs": [
    {
     "data": {
      "text/plain": [
       "(3, 1)"
      ]
     },
     "execution_count": 17,
     "metadata": {},
     "output_type": "execute_result"
    }
   ],
   "source": [
    "v.shape"
   ]
  },
  {
   "cell_type": "code",
   "execution_count": 19,
   "id": "64f99708",
   "metadata": {},
   "outputs": [
    {
     "data": {
      "text/plain": [
       "array([[-1,  2,  3]])"
      ]
     },
     "execution_count": 19,
     "metadata": {},
     "output_type": "execute_result"
    }
   ],
   "source": [
    "v.transpose()"
   ]
  },
  {
   "cell_type": "code",
   "execution_count": 20,
   "id": "18ca598e",
   "metadata": {},
   "outputs": [
    {
     "name": "stdout",
     "output_type": "stream",
     "text": [
      "[[2]]\n"
     ]
    }
   ],
   "source": [
    "z1 = v.transpose() @ x\n",
    "print(z1)"
   ]
  },
  {
   "cell_type": "code",
   "execution_count": 24,
   "id": "eba74d34",
   "metadata": {},
   "outputs": [],
   "source": [
    "def ReLU(carro):\n",
    "    if carro > 0:\n",
    "        return carro\n",
    "    else:\n",
    "        return 0"
   ]
  },
  {
   "cell_type": "code",
   "execution_count": 28,
   "id": "38f1fb5d",
   "metadata": {},
   "outputs": [],
   "source": [
    "t = np.linspace(-5, 5, 100)"
   ]
  },
  {
   "cell_type": "code",
   "execution_count": 30,
   "id": "e72173e5",
   "metadata": {},
   "outputs": [
    {
     "data": {
      "text/plain": [
       "array([-5.        , -4.8989899 , -4.7979798 , -4.6969697 , -4.5959596 ,\n",
       "       -4.49494949, -4.39393939, -4.29292929, -4.19191919, -4.09090909,\n",
       "       -3.98989899, -3.88888889, -3.78787879, -3.68686869, -3.58585859,\n",
       "       -3.48484848, -3.38383838, -3.28282828, -3.18181818, -3.08080808,\n",
       "       -2.97979798, -2.87878788, -2.77777778, -2.67676768, -2.57575758,\n",
       "       -2.47474747, -2.37373737, -2.27272727, -2.17171717, -2.07070707,\n",
       "       -1.96969697, -1.86868687, -1.76767677, -1.66666667, -1.56565657,\n",
       "       -1.46464646, -1.36363636, -1.26262626, -1.16161616, -1.06060606,\n",
       "       -0.95959596, -0.85858586, -0.75757576, -0.65656566, -0.55555556,\n",
       "       -0.45454545, -0.35353535, -0.25252525, -0.15151515, -0.05050505,\n",
       "        0.05050505,  0.15151515,  0.25252525,  0.35353535,  0.45454545,\n",
       "        0.55555556,  0.65656566,  0.75757576,  0.85858586,  0.95959596,\n",
       "        1.06060606,  1.16161616,  1.26262626,  1.36363636,  1.46464646,\n",
       "        1.56565657,  1.66666667,  1.76767677,  1.86868687,  1.96969697,\n",
       "        2.07070707,  2.17171717,  2.27272727,  2.37373737,  2.47474747,\n",
       "        2.57575758,  2.67676768,  2.77777778,  2.87878788,  2.97979798,\n",
       "        3.08080808,  3.18181818,  3.28282828,  3.38383838,  3.48484848,\n",
       "        3.58585859,  3.68686869,  3.78787879,  3.88888889,  3.98989899,\n",
       "        4.09090909,  4.19191919,  4.29292929,  4.39393939,  4.49494949,\n",
       "        4.5959596 ,  4.6969697 ,  4.7979798 ,  4.8989899 ,  5.        ])"
      ]
     },
     "execution_count": 30,
     "metadata": {},
     "output_type": "execute_result"
    }
   ],
   "source": [
    "t"
   ]
  },
  {
   "cell_type": "code",
   "execution_count": 33,
   "id": "f867c806",
   "metadata": {},
   "outputs": [
    {
     "data": {
      "text/plain": [
       "[<matplotlib.lines.Line2D at 0x1a0cf6ca940>]"
      ]
     },
     "execution_count": 33,
     "metadata": {},
     "output_type": "execute_result"
    },
    {
     "data": {
      "image/png": "[encoded data removed]",
      "text/plain": [
       "<Figure size 640x480 with 1 Axes>"
      ]
     },
     "metadata": {},
     "output_type": "display_data"
    }
   ],
   "source": [
    "y = [ReLU(i) for i in t]\n",
    "import matplotlib.pyplot as plt\n",
    "plt.plot(t, y)"
   ]
  },
  {
   "cell_type": "code",
   "execution_count": 34,
   "id": "da985a02",
   "metadata": {},
   "outputs": [
    {
     "name": "stdout",
     "output_type": "stream",
     "text": [
      "[[2]]\n"
     ]
    }
   ],
   "source": [
    "a1 = ReLU(z1)\n",
    "print(a1)"
   ]
  },
  {
   "cell_type": "code",
   "execution_count": 35,
   "id": "6141fe77",
   "metadata": {},
   "outputs": [
    {
     "name": "stdout",
     "output_type": "stream",
     "text": [
      "[[0]]\n"
     ]
    }
   ],
   "source": [
    "z2 = -2*a1+4\n",
    "print(z2)"
   ]
  },
  {
   "cell_type": "code",
   "execution_count": 42,
   "id": "601dd656",
   "metadata": {},
   "outputs": [],
   "source": [
    "class mired:\n",
    "    def __init__(self, pesos1, b1, pesos2, b2):\n",
    "        self.pesos1 = pesos1\n",
    "        self.b1 = b1\n",
    "        self.pesos2 = pesos2\n",
    "        self.b2 = b2\n",
    "\n",
    "    def feedforward(self, x):\n",
    "        z1 = self.pesos1.transpose() @ x + self.b1\n",
    "        a1 = ReLU(z1)\n",
    "        z2 = self.pesos2*a1 + self.b2\n",
    "        return z2"
   ]
  },
  {
   "cell_type": "code",
   "execution_count": 43,
   "id": "b21c6c24",
   "metadata": {},
   "outputs": [],
   "source": [
    "model = mired(np.array([[-1],[2]]), 3, -2, 4)"
   ]
  },
  {
   "cell_type": "code",
   "execution_count": 44,
   "id": "a2699e09",
   "metadata": {},
   "outputs": [
    {
     "data": {
      "text/plain": [
       "4"
      ]
     },
     "execution_count": 44,
     "metadata": {},
     "output_type": "execute_result"
    }
   ],
   "source": [
    "model.feedforward(np.array([[10],[2]]))"
   ]
  }
 ],
 "metadata": {
  "kernelspec": {
   "display_name": "vision",
   "language": "python",
   "name": "python3"
  },
  "language_info": {
   "codemirror_mode": {
    "name": "ipython",
    "version": 3
   },
   "file_extension": ".py",
   "mimetype": "text/x-python",
   "name": "python",
   "nbconvert_exporter": "python",
   "pygments_lexer": "ipython3",
   "version": "3.9.23"
  }
 },
 "nbformat": 4,
 "nbformat_minor": 5
}
